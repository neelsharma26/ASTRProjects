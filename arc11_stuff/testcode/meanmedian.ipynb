{
 "cells": [
  {
   "cell_type": "code",
   "execution_count": 2,
   "metadata": {},
   "outputs": [],
   "source": [
    "import numpy as np\n",
    "from matplotlib import pyplot as plt\n",
    "from matplotlib.backends.backend_pdf import PdfPages\n",
    "\n",
    "def get_residuals(actual_img, residual_img, wcs, apertures, filename):\n",
    "    \"\"\"\n",
    "    Saves plots for each aperture to a single PDF file, including residual histograms.\n",
    "\n",
    "    Parameters:\n",
    "    - actual_img (numpy.ndarray): The original image array.\n",
    "    - residual_img (numpy.ndarray): The residual image array.\n",
    "    - wcs (WCS object): WCS object for the images.\n",
    "    - apertures (list): List of aperture objects.\n",
    "    - filename (str): Path to the output PDF file.\n",
    "    \"\"\"\n",
    "    \n",
    "    try:\n",
    "        with PdfPages(filename) as pdf:\n",
    "            for aperture in apertures:\n",
    "                ap_pix = aperture.to_pixel(wcs)\n",
    "                mask = ap_pix.to_mask(method='exact')\n",
    "\n",
    "                mask_data = mask.get_values(actual_img)\n",
    "                mask_res = mask.get_values(residual_img)\n",
    "\n",
    "                noise_std = np.std(mask_res)\n",
    "\n",
    "                cutout_data = mask.cutout(actual_img)\n",
    "                cutout_res = mask.cutout(residual_img)\n",
    "\n",
    "                fig, ax = plt.subplots(1, 3, figsize=(10, 5), dpi=300)\n",
    "                ax[0].imshow(cutout_data, origin='lower')\n",
    "                ax[0].set_title('Original')\n",
    "                ax[1].imshow(cutout_res, origin='lower')\n",
    "                ax[1].set_title('Residual')\n",
    "\n",
    "                ax[2].hist(mask_res.flatten(), bins=100, range=(-8*noise_std, 8*noise_std),\n",
    "                           align='left', color='k', label='Residual Image Values')\n",
    "                ax[2].axvline(np.median(mask_data), color='r', label='Original Median')\n",
    "                ax[2].axvline(np.median(mask_res), color='b', label='Residual Median')\n",
    "                ax[2].legend(loc='upper left', fontsize=6)\n",
    "\n",
    "                plt.tight_layout(rect=[0, 0, 0.75, 1])\n",
    "                pdf.savefig(fig, bbox_inches='tight')\n",
    "                plt.close(fig)\n",
    "\n",
    "    except Exception as e:\n",
    "        raise"
   ]
  },
  {
   "cell_type": "code",
   "execution_count": 10,
   "metadata": {},
   "outputs": [
    {
     "name": "stderr",
     "output_type": "stream",
     "text": [
      "WARNING: FITSFixedWarning: 'obsfix' made the change 'Set OBSGEO-L to  -167.269229 from OBSGEO-[XYZ].\n",
      "Set OBSGEO-B to    12.239720 from OBSGEO-[XYZ].\n",
      "Set OBSGEO-H to 1226177244.676 from OBSGEO-[XYZ]'. [astropy.wcs.wcs]\n"
     ]
    }
   ],
   "source": [
    "from astropy.io import fits\n",
    "from ds9parser import get_apertures\n",
    "from astropy.wcs import WCS\n",
    "\n",
    "file = fits.open('../images/epoch1/test.fits')\n",
    "sci_img = file[1].data\n",
    "sci_head = file[1].header\n",
    "res_img = file[-1].data\n",
    "\n",
    "aperatures = get_apertures('region.reg')\n",
    "wcs_ = WCS(sci_head)\n",
    "\n",
    "get_residuals(sci_img, res_img, wcs_, aperatures,'parseddata.pdf')"
   ]
  },
  {
   "cell_type": "code",
   "execution_count": null,
   "metadata": {},
   "outputs": [],
   "source": []
  }
 ],
 "metadata": {
  "kernelspec": {
   "display_name": "bagpipes",
   "language": "python",
   "name": "python3"
  },
  "language_info": {
   "codemirror_mode": {
    "name": "ipython",
    "version": 3
   },
   "file_extension": ".py",
   "mimetype": "text/x-python",
   "name": "python",
   "nbconvert_exporter": "python",
   "pygments_lexer": "ipython3",
   "version": "3.12.4"
  }
 },
 "nbformat": 4,
 "nbformat_minor": 2
}
