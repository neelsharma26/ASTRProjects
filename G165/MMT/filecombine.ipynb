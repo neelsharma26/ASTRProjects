{
 "cells": [
  {
   "cell_type": "code",
   "execution_count": 17,
   "metadata": {},
   "outputs": [],
   "source": [
    "import pandas as pd\n",
    "import numpy as np\n",
    "from astropy.coordinates import SkyCoord\n",
    "from astropy import units as u"
   ]
  },
  {
   "cell_type": "code",
   "execution_count": 18,
   "metadata": {},
   "outputs": [
    {
     "name": "stdout",
     "output_type": "stream",
     "text": [
      "Matching completed. Results saved to matched_resultsLONG.csv\n"
     ]
    }
   ],
   "source": [
    "# Load the original file\n",
    "original_file = \"/Users/neelsharma/Desktop/ASTRProjects/G165/MMT/LONGMATCHING.csv\"  # Update with actual file path\n",
    "original_df = pd.read_csv(original_file, delimiter=\",\")  # Adjust delimiter if needed\n",
    "\n",
    "# Load the reference file\n",
    "reference_file = \"/Users/neelsharma/Desktop/ASTRProjects/G165/MMT/LongExposure/LONGEXPO.csv\"  # Update with actual file path\n",
    "reference_df = pd.read_csv(reference_file, delimiter=\",\")  # Adjust delimiter if needed\n",
    "\n",
    "# Parse coordinates from original file\n",
    "original_df[['ra', 'dec']] = original_df['Coordinates'].str.split(',', expand=True).astype(float)\n",
    "\n",
    "# Convert coordinates to SkyCoord objects\n",
    "orig_coords = SkyCoord(ra=original_df['ra'].values * u.deg, dec=original_df['dec'].values * u.deg)\n",
    "ref_coords = SkyCoord(ra=reference_df['ra'].values * u.deg, dec=reference_df['dec'].values * u.deg)\n",
    "\n",
    "# Find closest match for each original coordinate\n",
    "idx, d2d, _ = orig_coords.match_to_catalog_sky(ref_coords)\n",
    "\n",
    "# Define a matching threshold (e.g., 3 arcseconds)\n",
    "threshold = 3 * u.arcsec\n",
    "matched_mags = np.where(d2d < threshold, reference_df.iloc[idx]['mag'].values, np.nan)\n",
    "\n",
    "# Add magnitude to the original DataFrame\n",
    "original_df['mag'] = matched_mags\n",
    "\n",
    "# Save the matched file\n",
    "output_file = \"matched_resultsLONG.csv\"\n",
    "original_df.to_csv(output_file, index=False, sep=\"\\t\")\n",
    "\n",
    "print(f\"Matching completed. Results saved to {output_file}\")"
   ]
  }
 ],
 "metadata": {
  "kernelspec": {
   "display_name": "bagpipes",
   "language": "python",
   "name": "python3"
  },
  "language_info": {
   "codemirror_mode": {
    "name": "ipython",
    "version": 3
   },
   "file_extension": ".py",
   "mimetype": "text/x-python",
   "name": "python",
   "nbconvert_exporter": "python",
   "pygments_lexer": "ipython3",
   "version": "3.12.4"
  }
 },
 "nbformat": 4,
 "nbformat_minor": 2
}
