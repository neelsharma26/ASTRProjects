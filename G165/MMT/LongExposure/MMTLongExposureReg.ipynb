{
 "cells": [
  {
   "cell_type": "code",
   "execution_count": 6,
   "metadata": {},
   "outputs": [
    {
     "name": "stdout",
     "output_type": "stream",
     "text": [
      "Region file saved as MMTLongExposureReg.reg\n"
     ]
    }
   ],
   "source": [
    "import os\n",
    "import glob\n",
    "from astropy.io import fits\n",
    "\n",
    "def extract_fits_info(directory, output_file):\n",
    "    fits_files = glob.glob(os.path.join(directory, \"*.fits\"))\n",
    "    \n",
    "    with open(output_file, \"w\") as reg_file:\n",
    "        \n",
    "        for fits_file in fits_files:\n",
    "            with fits.open(fits_file) as hdul:\n",
    "                header = hdul[0].header\n",
    "                \n",
    "                slit_name = header.get(\"SLITID\", \"Unknown\")\n",
    "                ra = header.get(\"SLITRA\", None)\n",
    "                dec = header.get(\"SLITDEC\", None)\n",
    "                \n",
    "                if ra is not None and dec is not None:\n",
    "                    reg_file.write(f\"circle({ra}, {dec}\")\n",
    "                    reg_file.write(f\") # text='{fits_file[72::]}'\\n\")\n",
    "                else:\n",
    "                    print(f\"Skipping {fits_file}: Missing RA or DEC in header\")\n",
    "\n",
    "if __name__ == \"__main__\":\n",
    "    input_directory = \"/Users/neelsharma/Desktop/ASTRProjects/G165/MMT/LongExposure/obj_abs_1D\"\n",
    "    output_filename = \"MMTLongExposureReg.reg\"\n",
    "    extract_fits_info(input_directory, output_filename)\n",
    "    print(f\"Region file saved as {output_filename}\")"
   ]
  }
 ],
 "metadata": {
  "kernelspec": {
   "display_name": "bagpipes",
   "language": "python",
   "name": "python3"
  },
  "language_info": {
   "codemirror_mode": {
    "name": "ipython",
    "version": 3
   },
   "file_extension": ".py",
   "mimetype": "text/x-python",
   "name": "python",
   "nbconvert_exporter": "python",
   "pygments_lexer": "ipython3",
   "version": "3.12.4"
  }
 },
 "nbformat": 4,
 "nbformat_minor": 2
}
