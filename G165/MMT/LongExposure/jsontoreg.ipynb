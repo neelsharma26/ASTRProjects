{
 "cells": [
  {
   "cell_type": "code",
   "execution_count": 3,
   "metadata": {},
   "outputs": [],
   "source": [
    "import json"
   ]
  },
  {
   "cell_type": "code",
   "execution_count": 4,
   "metadata": {},
   "outputs": [],
   "source": [
    "def createreg(jsonfile, outputfile):\n",
    "    with open(jsonfile, 'r') as file:\n",
    "        data = json.load(file)\n",
    "    \n",
    "    slitsA = data.get(\"sidea\", [])\n",
    "    slitsB = data.get(\"sideb\", [])\n",
    "    \n",
    "    with open(outputfile, 'w') as file:\n",
    "        \n",
    "        file.write(\"# Region file format: DS9 version 4.1\\nfk5\\n\")\n",
    "\n",
    "        for slit in slitsA:\n",
    "            ra = slit.get(\"RA\")\n",
    "            dec = slit.get(\"DEC\")\n",
    "            width = slit.get(\"WIDTH\", 0)\n",
    "            height = slit.get(\"HEIGHT\", 0)\n",
    "            theta = slit.get(\"THETA\", 0)\n",
    "            label = slit.get(\"OBJECT\", \"Unknown\")\n",
    "\n",
    "            file.write(f\"box({ra},{dec},6\\\",1\\\",163.01751724896334) # text={{{label}}}\\n\")\n",
    "\n",
    "        for slit in slitsB:\n",
    "            ra = slit.get(\"RA\")\n",
    "            dec = slit.get(\"DEC\")\n",
    "            width = slit.get(\"WIDTH\", 0)\n",
    "            height = slit.get(\"HEIGHT\", 0)\n",
    "            theta = slit.get(\"THETA\", 0)\n",
    "            label = slit.get(\"OBJECT\", \"Unknown\")\n",
    "\n",
    "            file.write(f\"box({ra},{dec},6\\\",1\\\",163.01751724896334) # text={{{label}}}\\n\")"
   ]
  },
  {
   "cell_type": "code",
   "execution_count": 5,
   "metadata": {},
   "outputs": [],
   "source": [
    "jsonfile = \"/Users/neelsharma/Desktop/ASTRProjects/G165/MMT/LongExposure/LONGJSON.json\"\n",
    "outputfile = \"/Users/neelsharma/Desktop/ASTRProjects/G165/MMT/LongExposure/LONGJSONCSV.reg\"\n",
    "\n",
    "createreg(jsonfile, outputfile)"
   ]
  }
 ],
 "metadata": {
  "kernelspec": {
   "display_name": "bagpipes",
   "language": "python",
   "name": "python3"
  },
  "language_info": {
   "codemirror_mode": {
    "name": "ipython",
    "version": 3
   },
   "file_extension": ".py",
   "mimetype": "text/x-python",
   "name": "python",
   "nbconvert_exporter": "python",
   "pygments_lexer": "ipython3",
   "version": "3.12.4"
  }
 },
 "nbformat": 4,
 "nbformat_minor": 2
}
