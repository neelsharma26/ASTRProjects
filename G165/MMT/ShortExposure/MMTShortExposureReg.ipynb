{
 "cells": [
  {
   "cell_type": "code",
   "execution_count": 5,
   "metadata": {},
   "outputs": [
    {
     "name": "stdout",
     "output_type": "stream",
     "text": [
      "Region file saved as MMTShortExposureReg.reg\n"
     ]
    }
   ],
   "source": [
    "import os\n",
    "import glob\n",
    "from astropy.io import fits\n",
    "\n",
    "def extract_fits_info(directory, output_file):\n",
    "    fits_files = glob.glob(os.path.join(directory, \"*.fits\"))\n",
    "    \n",
    "    with open(output_file, \"w\") as reg_file:\n",
    "        \n",
    "        for fits_file in fits_files:\n",
    "            with fits.open(fits_file) as hdul:\n",
    "                header = hdul[0].header\n",
    "                \n",
    "                slit_name = header.get(\"SLITID\", \"Unknown\")\n",
    "                ra = header.get(\"SLITRA\", None)\n",
    "                dec = header.get(\"SLITDEC\", None)\n",
    "                \n",
    "                if ra is not None and dec is not None:\n",
    "                    reg_file.write(f\"circle({ra}, {dec}\")\n",
    "                    reg_file.write(f\") # text='{fits_file[73::]}'\\n\")\n",
    "                else:\n",
    "                    print(f\"Skipping {fits_file}: Missing RA or DEC in header\")\n",
    "\n",
    "if __name__ == \"__main__\":\n",
    "    input_directory = \"/Users/neelsharma/Desktop/ASTRProjects/G165/MMT/ShortExposure/obj_abs_1D\"\n",
    "    output_filename = \"MMTShortExposureReg.reg\"\n",
    "    extract_fits_info(input_directory, output_filename)\n",
    "    print(f\"Region file saved as {output_filename}\")"
   ]
  },
  {
   "cell_type": "code",
   "execution_count": 6,
   "metadata": {},
   "outputs": [
    {
     "name": "stdout",
     "output_type": "stream",
     "text": [
      "Conversion complete. CSV file saved as MMTShortExposureReg.csv\n"
     ]
    }
   ],
   "source": [
    "import csv\n",
    "import re\n",
    "\n",
    "# Input and output file names\n",
    "input_filename = \"MMTShortExposureReg.reg\"\n",
    "output_filename = \"MMTShortExposureReg.csv\"\n",
    "\n",
    "# Regular expression pattern to extract data\n",
    "pattern = re.compile(r\"circle\\(([-\\d\\.]+), ([-\\d\\.]+)\\) # text='(.*?)'\")\n",
    "\n",
    "# Read the .reg file and extract data\n",
    "rows = []\n",
    "with open(input_filename, \"r\") as file:\n",
    "    for line in file:\n",
    "        match = pattern.search(line)\n",
    "        if match:\n",
    "            ra, dec, spectrumid = match.groups()\n",
    "            coordinates = f\"{ra}, {dec}\"\n",
    "            rows.append([spectrumid, coordinates])\n",
    "\n",
    "# Write to a CSV file\n",
    "with open(output_filename, \"w\", newline=\"\") as file:\n",
    "    writer = csv.writer(file)\n",
    "    writer.writerow([\"spectrumid\", \"coordinates\"])\n",
    "    writer.writerows(rows)\n",
    "\n",
    "print(f\"Conversion complete. CSV file saved as {output_filename}\")"
   ]
  }
 ],
 "metadata": {
  "kernelspec": {
   "display_name": "bagpipes",
   "language": "python",
   "name": "python3"
  },
  "language_info": {
   "codemirror_mode": {
    "name": "ipython",
    "version": 3
   },
   "file_extension": ".py",
   "mimetype": "text/x-python",
   "name": "python",
   "nbconvert_exporter": "python",
   "pygments_lexer": "ipython3",
   "version": "3.12.4"
  }
 },
 "nbformat": 4,
 "nbformat_minor": 2
}
