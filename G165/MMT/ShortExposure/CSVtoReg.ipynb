{
 "cells": [
  {
   "cell_type": "code",
   "execution_count": 2,
   "metadata": {},
   "outputs": [],
   "source": [
    "import pandas as pd\n",
    "\n",
    "filename = \"ab_mag.csv\"\n",
    "\n",
    "df = pd.read_csv(filename)\n",
    "\n",
    "with open(\"RegfromCSV.reg\", \"w\") as f:\n",
    "    for _, row in df.iterrows():\n",
    "        f.write(f\"circle({row['ra']}, {row['dec']}) # text = \\'{row['slit']}\\'\\n\")"
   ]
  },
  {
   "cell_type": "code",
   "execution_count": 3,
   "metadata": {},
   "outputs": [],
   "source": [
    "filename = \"g165_long_833.csv\"\n",
    "\n",
    "df = pd.read_csv(filename)\n",
    "\n",
    "with open(\"RegfromCAT.reg\", \"w\") as f:\n",
    "    for _, row in df.iterrows():\n",
    "        f.write(f\"circle({row['ra']}, {row['dec']}) # text = \\'{row['slit']}\\'\\n\")"
   ]
  }
 ],
 "metadata": {
  "kernelspec": {
   "display_name": "bagpipes",
   "language": "python",
   "name": "python3"
  },
  "language_info": {
   "codemirror_mode": {
    "name": "ipython",
    "version": 3
   },
   "file_extension": ".py",
   "mimetype": "text/x-python",
   "name": "python",
   "nbconvert_exporter": "python",
   "pygments_lexer": "ipython3",
   "version": "3.12.4"
  }
 },
 "nbformat": 4,
 "nbformat_minor": 2
}
