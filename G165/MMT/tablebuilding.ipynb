{
 "cells": [
  {
   "cell_type": "code",
   "execution_count": 13,
   "metadata": {},
   "outputs": [
    {
     "name": "stdout",
     "output_type": "stream",
     "text": [
      "   Spectrum #                                   Spectrum ID  \\\n",
      "0           1  slitA001_SDSSJ112627.98+422407.7t100621.fits   \n",
      "1           2  slitA002_SDSSJ112630.96+422330.2t100622.fits   \n",
      "2           3  slitA003_SDSSJ112632.88+422331.2t100623.fits   \n",
      "3           4  slitA004_SDSSJ112630.95+422435.0t100624.fits   \n",
      "4           5  slitA005_SDSSJ112622.69+422828.4t100625.fits   \n",
      "\n",
      "                 Coordinates  Tasio Neel  Sarayu  Reagen  Brenda (happy with)  \\\n",
      "0  171.61658561, 42.40216199    NaN  NaN      0?      0?                  NaN   \n",
      "1  171.62902817, 42.39173095    NaN  NaN     NaN      0?                  NaN   \n",
      "2  171.63701818, 42.39201407    NaN  NaN  0.4133  0.4133               0.4133   \n",
      "3  171.62898044, 42.40973619    NaN  NaN  0.3482   0.348               0.3482   \n",
      "4  171.59457388, 42.47457571    NaN  NaN  0.2005  0.2005               0.2005   \n",
      "\n",
      "           Remarks + Notes          Unnamed: 9  \n",
      "0  MgI, Na absorption, NaD    could be a star?  \n",
      "1        definitely a star  could be dupicate?  \n",
      "2                      NaN                 NaN  \n",
      "3                      NaN                 NaN  \n",
      "4                      NaN                 NaN  \n"
     ]
    }
   ],
   "source": [
    "import pandas as pd\n",
    "\n",
    "df = pd.read_csv(\"/Users/neelsharma/Desktop/ASTRProjects/G165/MMT/MMTShortSlitData.csv\")\n",
    "\n",
    "print(df.head())\n",
    "df.to_csv(\"output.csv\", index=False)  # Saves without the index column"
   ]
  },
  {
   "cell_type": "code",
   "execution_count": 14,
   "metadata": {},
   "outputs": [
    {
     "name": "stdout",
     "output_type": "stream",
     "text": [
      "   Spectrum #                                   Spectrum ID  \\\n",
      "0           1  slitA001_SDSSJ112627.98+422407.7t100621.fits   \n",
      "1           2  slitA002_SDSSJ112630.96+422330.2t100622.fits   \n",
      "2           3  slitA003_SDSSJ112632.88+422331.2t100623.fits   \n",
      "3           4  slitA004_SDSSJ112630.95+422435.0t100624.fits   \n",
      "4           5  slitA005_SDSSJ112622.69+422828.4t100625.fits   \n",
      "\n",
      "                 Coordinates  Tasio Neel  Sarayu  Reagen  Brenda (happy with)  \\\n",
      "0  171.61658561, 42.40216199    NaN  NaN      0?      0?                  NaN   \n",
      "1  171.62902817, 42.39173095    NaN  NaN     NaN      0?                  NaN   \n",
      "2  171.63701818, 42.39201407    NaN  NaN  0.4133  0.4133               0.4133   \n",
      "3  171.62898044, 42.40973619    NaN  NaN  0.3482   0.348               0.3482   \n",
      "4  171.59457388, 42.47457571    NaN  NaN  0.2005  0.2005               0.2005   \n",
      "\n",
      "           Remarks + Notes          Unnamed: 9  i_mag  \n",
      "0  MgI, Na absorption, NaD    could be a star?    NaN  \n",
      "1        definitely a star  could be dupicate?    NaN  \n",
      "2                      NaN                 NaN    NaN  \n",
      "3                      NaN                 NaN    NaN  \n",
      "4                      NaN                 NaN    NaN  \n"
     ]
    }
   ],
   "source": [
    "import pandas as pd\n",
    "\n",
    "f_1 = pd.read_csv(\"/Users/neelsharma/Desktop/ASTRProjects/G165/MMT/MMTShortSlitData.csv\")  \n",
    "f_2 = pd.read_csv(\"/Users/neelsharma/Desktop/ASTRProjects/G165/MMT/LONGi-band.csv\")  \n",
    "\n",
    "merged_f = f_1.merge(f_2[['spectrum_id', 'i_mag']], left_on='Spectrum ID', right_on='spectrum_id', how='left')\n",
    "\n",
    "merged_f.drop(columns=['spectrum_id'], inplace=True)\n",
    "\n",
    "merged_f.to_csv(\"merged_data.txt\", sep=\"\\t\", index=False)\n",
    "\n",
    "print(merged_f.head())"
   ]
  },
  {
   "cell_type": "code",
   "execution_count": 15,
   "metadata": {},
   "outputs": [
    {
     "name": "stdout",
     "output_type": "stream",
     "text": [
      "   Spectrum #                                   Spectrum ID  \\\n",
      "0       297.0  slitB149_SDSSJ112556.54+423003.4t101089.fits   \n",
      "1       296.0  slitB148_SDSSJ112550.58+423128.6t101088.fits   \n",
      "2       295.0       slitB147_SDSSJ112601.02+422933.5t101087   \n",
      "3       294.0       slitB146_SDSSJ112558.20+423018.7t101086   \n",
      "4       293.0       slitB145_SDSSJ112557.05+423044.5t101085   \n",
      "\n",
      "                 Coordinates  i_mag  Tasio   Neel Sarayu  Reagen  \\\n",
      "0   171.48558441, 42.5009583  22.45    NaN  0.175    NaN   0.175   \n",
      "1   171.46078633, 42.5246177  21.28    NaN      ?    NaN  0.3655   \n",
      "2  171.50428962, 42.49265989  23.41    NaN      ?    NaN       ?   \n",
      "3  171.49250003, 42.50521819  22.84    NaN      ?    NaN       ?   \n",
      "4  171.48774515, 42.51237848  21.18    NaN      ?    NaN       ?   \n",
      "\n",
      "  Brenda (happy with)                        Lines Identified/Remarks  \\\n",
      "0               0.175   OII (very prominent, is this possible?), H, K   \n",
      "1                 NaN  OII looks like maybe but mostly not believable   \n",
      "2                 NaN                  Very noisy (most flux under 0)   \n",
      "3                 NaN                  Very noisy (most flux under 0)   \n",
      "4                 NaN                  Very noisy (most flux under 0)   \n",
      "\n",
      "  y-lim\\n(x-lim is autoscaled )  \\\n",
      "0                           NaN   \n",
      "1                           NaN   \n",
      "2                           NaN   \n",
      "3                           NaN   \n",
      "4                           NaN   \n",
      "\n",
      "                                         Unnamed: 10  \n",
      "0                               MMT Long starts here  \n",
      "1  RED is HIGH PRIORITY -- something seems off/wrong  \n",
      "2  YELLOW is PRIORITY -- something to consider / ...  \n",
      "3  GREEN is a MATCH -- some values are fine tuned...  \n",
      "4                                                NaN  \n"
     ]
    }
   ],
   "source": [
    "import pandas as pd\n",
    "\n",
    "df1 = pd.read_csv(\"/Users/neelsharma/Desktop/ASTRProjects/G165/MMT/MMTLongSlitData.csv\")  \n",
    "df2 = pd.read_csv(\"/Users/neelsharma/Desktop/ASTRProjects/G165/MMT/LONGi-band.csv\")  \n",
    "\n",
    "merged_df = df1.merge(df2[['spectrum_id', 'i_mag']], left_on='Spectrum ID', right_on='spectrum_id', how='left')\n",
    "merged_df.drop(columns=['spectrum_id'], inplace=True)\n",
    "\n",
    "ordered = ['Spectrum #', 'Spectrum ID', 'Coordinates', 'i_mag', 'Tasio', 'Neel'] + \\\n",
    "                [col for col in merged_df.columns if col not in ['Spectrum #', 'Spectrum ID', 'Coordinates', 'i_mag', 'Tasio', 'Neel']]\n",
    "\n",
    "merged_df = merged_df[ordered]\n",
    "\n",
    "merged_df.to_csv(\"merged_data.txt\", sep=\"\\t\", index=False)\n",
    "\n",
    "print(merged_df.head())"
   ]
  }
 ],
 "metadata": {
  "kernelspec": {
   "display_name": "bagpipes",
   "language": "python",
   "name": "python3"
  },
  "language_info": {
   "codemirror_mode": {
    "name": "ipython",
    "version": 3
   },
   "file_extension": ".py",
   "mimetype": "text/x-python",
   "name": "python",
   "nbconvert_exporter": "python",
   "pygments_lexer": "ipython3",
   "version": "3.12.4"
  }
 },
 "nbformat": 4,
 "nbformat_minor": 2
}
