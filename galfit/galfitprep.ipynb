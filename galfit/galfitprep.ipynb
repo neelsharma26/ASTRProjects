{
 "cells": [
  {
   "cell_type": "code",
   "execution_count": 178,
   "metadata": {},
   "outputs": [],
   "source": [
    "import os\n",
    "from astropy.io import fits\n",
    "\n",
    "def find_PHOTMJSR(path):\n",
    "    photmjsr_values = []\n",
    "\n",
    "    for filename in os.listdir(path):\n",
    "        if filename.endswith('.fits'):\n",
    "            file_path = os.path.join(path, filename)\n",
    "            \n",
    "            with fits.open(file_path) as hdul:\n",
    "                header = hdul[0].header\n",
    "                photmjsr = header.get('PHOTMJSR', 'N/A') \n",
    "                photmjsr_values.append((filename, (1/photmjsr)))\n",
    "\n",
    "    #for fname, photmjsr in photmjsr_values:\n",
    "    #    print(f\"File: {fname}, PHOTMJSR: {photmjsr}\")\n",
    "\n",
    "    return photmjsr_values\n",
    "\n",
    "def calc_gain(epoch, epoch1_exp, epoch2_exp, epoch3_exp):\n",
    "    gain_list = []\n",
    "\n",
    "    for pair in epoch:\n",
    "        \n",
    "        if 'epoch1' in pair[0]:\n",
    "            if pair[0][0:5].upper() in epoch1_exp:\n",
    "                exp_time = epoch1_exp[pair[0][0:5].upper()]\n",
    "        elif 'epoch2' in pair[0]:\n",
    "            if pair[0][0:5].upper() in epoch2_exp:\n",
    "                exp_time = epoch2_exp[pair[0][0:5].upper()]\n",
    "        elif 'epoch3' in pair[0]:\n",
    "            if pair[0][0:5].upper() in epoch3_exp:\n",
    "                exp_time = epoch3_exp[pair[0][0:5].upper()]\n",
    "\n",
    "        gain = pair[1] * exp_time \n",
    "\n",
    "        gain_list.append((pair[0], gain))\n",
    "    \n",
    "    return gain_list\n",
    "\n",
    "\n",
    "def add_gain(path, gainls):\n",
    "    gain_dict = dict(gainls)\n",
    "\n",
    "    for filename in os.listdir(path):\n",
    "        if filename.endswith('.fits'):\n",
    "            file_path = os.path.join(path, filename)\n",
    "            \n",
    "            if filename in gain_dict:\n",
    "                gain_value = gain_dict[filename]\n",
    "                \n",
    "                with fits.open(file_path, mode='update') as hdul:\n",
    "                    header = hdul[0].header\n",
    "                    header['GAIN'] = gain_value,'gain value (counts)'\n",
    "                    hdul.flush() \n",
    "                    \n",
    "                    print(f\"Updated GAIN to: {gain_value} for {filename}\")\n",
    "            else:\n",
    "                print(f\"No gain value found for {filename}\")"
   ]
  },
  {
   "cell_type": "code",
   "execution_count": 179,
   "metadata": {},
   "outputs": [],
   "source": [
    "E1PHOTMJSR = find_PHOTMJSR('/Users/neelsharma/Desktop/ASTRProjects/arc11_stuff/images/epoch1/sci')\n",
    "E2PHOTMJSR = find_PHOTMJSR('/Users/neelsharma/Desktop/ASTRProjects/arc11_stuff/images/epoch2/sci')\n",
    "E3PHOTMJSR = find_PHOTMJSR('/Users/neelsharma/Desktop/ASTRProjects/arc11_stuff/images/epoch3/sci')"
   ]
  },
  {
   "cell_type": "code",
   "execution_count": 180,
   "metadata": {},
   "outputs": [],
   "source": [
    "epoch1_exp = {\"F090W\": 2491, \"F115W\": 2491, \"F150W\": 1890, \"F200W\": 2104, \"F277W\": 2104, \"F356W\": 1890, \"F410M\": 2491, \"F444W\": 2491}\n",
    "epoch2_exp = {\"F090W\": 1246, \"F115W\": 0, \"F150W\": 859, \"F200W\": 1761, \"F277W\": 1761, \"F356W\": 859, \"F410M\": 0, \"F444W\": 1246}\n",
    "epoch3_exp = {\"F090W\": 1417, \"F115W\": 0, \"F150W\": 1246, \"F200W\": 1761, \"F277W\": 1761, \"F356W\": 1246, \"F410M\": 0, \"F444W\": 1417}\n",
    "\n",
    "E1GAIN = calc_gain(E1PHOTMJSR, epoch1_exp, epoch2_exp, epoch3_exp)\n",
    "E2GAIN = calc_gain(E2PHOTMJSR, epoch1_exp, epoch2_exp, epoch3_exp)\n",
    "E3GAIN = calc_gain(E3PHOTMJSR, epoch1_exp, epoch2_exp, epoch3_exp)"
   ]
  },
  {
   "cell_type": "code",
   "execution_count": 181,
   "metadata": {},
   "outputs": [
    {
     "name": "stdout",
     "output_type": "stream",
     "text": [
      "Updated GAIN to: 6346.496603256691 for f444w_sci_epoch1_20240516.fits\n",
      "Updated GAIN to: 840.7587343697746 for f115w_sci_epoch1_20240516.fits\n",
      "Updated GAIN to: 839.5522534591188 for f150w_sci_epoch1_20240516.fits\n",
      "Updated GAIN to: 1112.2270800498843 for f200w_sci_epoch1_20240516.fits\n",
      "Updated GAIN to: 4286.878624332551 for f277w_sci_epoch1_20240516.fits\n",
      "Updated GAIN to: 2861.9025355873077 for f410m_sci_epoch1_20240516.fits\n",
      "Updated GAIN to: 4670.125892164198 for f356w_sci_epoch1_20240516.fits\n",
      "Updated GAIN to: 831.4141859415078 for f090w_sci_epoch1_20240516.fits\n",
      "Updated GAIN to: 3342.2747448016216 for f444w_sci_epoch2_20240516.fits\n",
      "Updated GAIN to: 356.07693476172324 for f150w_sci_epoch2_20240516.fits\n",
      "Updated GAIN to: 4217.964180248734 for f277w_sci_epoch2_20240516.fits\n",
      "Updated GAIN to: 870.7906817394337 for f200w_sci_epoch2_20240516.fits\n",
      "Updated GAIN to: 349.60719360519073 for f090w_sci_epoch2_20240516.fits\n",
      "Updated GAIN to: 2284.5745463111466 for f356w_sci_epoch2_20240516.fits\n",
      "Updated GAIN to: 3313.8299007027804 for f356w_sci_epoch3_20240516.fits\n",
      "Updated GAIN to: 397.58699304859977 for f090w_sci_epoch3_20240516.fits\n",
      "Updated GAIN to: 870.7906817394337 for f200w_sci_epoch3_20240516.fits\n",
      "Updated GAIN to: 4217.964180248734 for f277w_sci_epoch3_20240516.fits\n",
      "Updated GAIN to: 516.4980916334192 for f150w_sci_epoch3_20240516.fits\n",
      "Updated GAIN to: 3800.96574107857 for f444w_sci_epoch3_20240516.fits\n"
     ]
    }
   ],
   "source": [
    "add_gain('/Users/neelsharma/Desktop/ASTRProjects/arc11_stuff/images/epoch1/sci', E1GAIN)\n",
    "add_gain('/Users/neelsharma/Desktop/ASTRProjects/arc11_stuff/images/epoch2/sci', E2GAIN)\n",
    "add_gain('/Users/neelsharma/Desktop/ASTRProjects/arc11_stuff/images/epoch3/sci', E3GAIN)"
   ]
  }
 ],
 "metadata": {
  "kernelspec": {
   "display_name": "bagpipes",
   "language": "python",
   "name": "python3"
  },
  "language_info": {
   "codemirror_mode": {
    "name": "ipython",
    "version": 3
   },
   "file_extension": ".py",
   "mimetype": "text/x-python",
   "name": "python",
   "nbconvert_exporter": "python",
   "pygments_lexer": "ipython3",
   "version": "3.12.4"
  }
 },
 "nbformat": 4,
 "nbformat_minor": 2
}
